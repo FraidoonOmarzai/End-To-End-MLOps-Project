{
 "cells": [
  {
   "cell_type": "code",
   "execution_count": 1,
   "metadata": {},
   "outputs": [
    {
     "data": {
      "text/plain": [
       "'c:\\\\Users\\\\44787\\\\Desktop\\\\projects\\\\End-To-End-MLOps-Project\\\\notebooks'"
      ]
     },
     "execution_count": 1,
     "metadata": {},
     "output_type": "execute_result"
    }
   ],
   "source": [
    "%pwd"
   ]
  },
  {
   "cell_type": "code",
   "execution_count": 2,
   "metadata": {},
   "outputs": [
    {
     "data": {
      "text/plain": [
       "'c:\\\\Users\\\\44787\\\\Desktop\\\\projects\\\\End-To-End-MLOps-Project'"
      ]
     },
     "execution_count": 2,
     "metadata": {},
     "output_type": "execute_result"
    }
   ],
   "source": [
    "import os\n",
    "\n",
    "os.chdir(\"../\")\n",
    "%pwd"
   ]
  },
  {
   "cell_type": "code",
   "execution_count": 3,
   "metadata": {},
   "outputs": [],
   "source": [
    "from src.utils.common import read_yaml\n",
    "from src.constants import PARAMS_FILE_PATH\n",
    "\n",
    "import mlflow\n",
    "from mlflow.tracking import MlflowClient\n",
    "from pprint import pprint\n",
    "import joblib\n",
    "\n",
    "\n",
    "import warnings\n",
    "warnings.filterwarnings(\"ignore\")"
   ]
  },
  {
   "cell_type": "code",
   "execution_count": 49,
   "metadata": {},
   "outputs": [
    {
     "name": "stdout",
     "output_type": "stream",
     "text": [
      "[2024-05-26 21:52:14,190: INFO: common: yaml file: params.yaml loaded successfully]\n"
     ]
    },
    {
     "data": {
      "text/html": [
       "<div>\n",
       "<style scoped>\n",
       "    .dataframe tbody tr th:only-of-type {\n",
       "        vertical-align: middle;\n",
       "    }\n",
       "\n",
       "    .dataframe tbody tr th {\n",
       "        vertical-align: top;\n",
       "    }\n",
       "\n",
       "    .dataframe thead th {\n",
       "        text-align: right;\n",
       "    }\n",
       "</style>\n",
       "<table border=\"1\" class=\"dataframe\">\n",
       "  <thead>\n",
       "    <tr style=\"text-align: right;\">\n",
       "      <th></th>\n",
       "      <th>run_id</th>\n",
       "      <th>experiment_id</th>\n",
       "      <th>status</th>\n",
       "      <th>artifact_uri</th>\n",
       "      <th>start_time</th>\n",
       "      <th>end_time</th>\n",
       "      <th>metrics.acu</th>\n",
       "      <th>metrics.f1_score</th>\n",
       "      <th>params.min_samples_split</th>\n",
       "      <th>params.min_samples_leaf</th>\n",
       "      <th>params.max_depth</th>\n",
       "      <th>params.criterion</th>\n",
       "      <th>params.n_estimators</th>\n",
       "      <th>tags.mlflow.runName</th>\n",
       "      <th>tags.mlflow.user</th>\n",
       "      <th>tags.mlflow.source.type</th>\n",
       "      <th>tags.mlflow.source.git.commit</th>\n",
       "      <th>tags.mlflow.log-model.history</th>\n",
       "      <th>tags.mlflow.source.name</th>\n",
       "    </tr>\n",
       "  </thead>\n",
       "  <tbody>\n",
       "    <tr>\n",
       "      <th>0</th>\n",
       "      <td>02f0dd28aae04c77bb200015f4599910</td>\n",
       "      <td>3</td>\n",
       "      <td>FINISHED</td>\n",
       "      <td>file:///C:/Users/44787/Desktop/projects/End-To...</td>\n",
       "      <td>2024-05-26 20:50:52.081000+00:00</td>\n",
       "      <td>2024-05-26 20:51:15.147000+00:00</td>\n",
       "      <td>0.985082</td>\n",
       "      <td>0.985257</td>\n",
       "      <td>2</td>\n",
       "      <td>1</td>\n",
       "      <td>30</td>\n",
       "      <td>entropy</td>\n",
       "      <td>10</td>\n",
       "      <td>Random_Forest</td>\n",
       "      <td>44787</td>\n",
       "      <td>LOCAL</td>\n",
       "      <td>6716002dac22a89e10efba2403cdf40fccccb06b</td>\n",
       "      <td>[{\"run_id\": \"02f0dd28aae04c77bb200015f4599910\"...</td>\n",
       "      <td>.\\src\\pipeline\\stage_03_training_and_evaluatio...</td>\n",
       "    </tr>\n",
       "    <tr>\n",
       "      <th>1</th>\n",
       "      <td>41a6f3ea85f04cec8a893a2d06976582</td>\n",
       "      <td>3</td>\n",
       "      <td>FINISHED</td>\n",
       "      <td>file:///C:/Users/44787/Desktop/projects/End-To...</td>\n",
       "      <td>2024-05-26 20:49:48.788000+00:00</td>\n",
       "      <td>2024-05-26 20:50:09.559000+00:00</td>\n",
       "      <td>0.977881</td>\n",
       "      <td>0.978294</td>\n",
       "      <td>4</td>\n",
       "      <td>2</td>\n",
       "      <td>30</td>\n",
       "      <td>gini</td>\n",
       "      <td>200</td>\n",
       "      <td>Random_Forest</td>\n",
       "      <td>44787</td>\n",
       "      <td>LOCAL</td>\n",
       "      <td>6716002dac22a89e10efba2403cdf40fccccb06b</td>\n",
       "      <td>[{\"run_id\": \"41a6f3ea85f04cec8a893a2d06976582\"...</td>\n",
       "      <td>.\\src\\pipeline\\stage_03_training_and_evaluatio...</td>\n",
       "    </tr>\n",
       "  </tbody>\n",
       "</table>\n",
       "</div>"
      ],
      "text/plain": [
       "                             run_id experiment_id    status  \\\n",
       "0  02f0dd28aae04c77bb200015f4599910             3  FINISHED   \n",
       "1  41a6f3ea85f04cec8a893a2d06976582             3  FINISHED   \n",
       "\n",
       "                                        artifact_uri  \\\n",
       "0  file:///C:/Users/44787/Desktop/projects/End-To...   \n",
       "1  file:///C:/Users/44787/Desktop/projects/End-To...   \n",
       "\n",
       "                        start_time                         end_time  \\\n",
       "0 2024-05-26 20:50:52.081000+00:00 2024-05-26 20:51:15.147000+00:00   \n",
       "1 2024-05-26 20:49:48.788000+00:00 2024-05-26 20:50:09.559000+00:00   \n",
       "\n",
       "   metrics.acu  metrics.f1_score params.min_samples_split  \\\n",
       "0     0.985082          0.985257                        2   \n",
       "1     0.977881          0.978294                        4   \n",
       "\n",
       "  params.min_samples_leaf params.max_depth params.criterion  \\\n",
       "0                       1               30          entropy   \n",
       "1                       2               30             gini   \n",
       "\n",
       "  params.n_estimators tags.mlflow.runName tags.mlflow.user  \\\n",
       "0                  10       Random_Forest            44787   \n",
       "1                 200       Random_Forest            44787   \n",
       "\n",
       "  tags.mlflow.source.type             tags.mlflow.source.git.commit  \\\n",
       "0                   LOCAL  6716002dac22a89e10efba2403cdf40fccccb06b   \n",
       "1                   LOCAL  6716002dac22a89e10efba2403cdf40fccccb06b   \n",
       "\n",
       "                       tags.mlflow.log-model.history  \\\n",
       "0  [{\"run_id\": \"02f0dd28aae04c77bb200015f4599910\"...   \n",
       "1  [{\"run_id\": \"41a6f3ea85f04cec8a893a2d06976582\"...   \n",
       "\n",
       "                             tags.mlflow.source.name  \n",
       "0  .\\src\\pipeline\\stage_03_training_and_evaluatio...  \n",
       "1  .\\src\\pipeline\\stage_03_training_and_evaluatio...  "
      ]
     },
     "execution_count": 49,
     "metadata": {},
     "output_type": "execute_result"
    }
   ],
   "source": [
    "config = read_yaml(PARAMS_FILE_PATH)\n",
    "\n",
    "remote_server_uri = config.mlflow_config.remote_server_uri\n",
    "# mlflow.set_tracking_uri(remote_server_uri)\n",
    "mlflow.set_tracking_uri(\"http://localhost:1234\")\n",
    "\n",
    "\n",
    "\n",
    "# runs = mlflow.search_runs(experiment_ids=[0,1,2])\n",
    "runs = mlflow.search_runs(experiment_ids=[3])\n",
    "\n",
    "runs\n"
   ]
  },
  {
   "cell_type": "code",
   "execution_count": 50,
   "metadata": {},
   "outputs": [
    {
     "data": {
      "text/plain": [
       "0    0.985082\n",
       "1    0.977881\n",
       "Name: metrics.acu, dtype: float64"
      ]
     },
     "execution_count": 50,
     "metadata": {},
     "output_type": "execute_result"
    }
   ],
   "source": [
    "runs[\"metrics.acu\"].sort_values(ascending=False, ignore_index=True)"
   ]
  },
  {
   "cell_type": "code",
   "execution_count": 51,
   "metadata": {},
   "outputs": [
    {
     "data": {
      "text/plain": [
       "0.9850823045267489"
      ]
     },
     "execution_count": 51,
     "metadata": {},
     "output_type": "execute_result"
    }
   ],
   "source": [
    "highest = runs[\"metrics.acu\"].sort_values(ascending=False, ignore_index=True)[0]\n",
    "highest"
   ]
  },
  {
   "cell_type": "code",
   "execution_count": 52,
   "metadata": {},
   "outputs": [
    {
     "data": {
      "text/html": [
       "<div>\n",
       "<style scoped>\n",
       "    .dataframe tbody tr th:only-of-type {\n",
       "        vertical-align: middle;\n",
       "    }\n",
       "\n",
       "    .dataframe tbody tr th {\n",
       "        vertical-align: top;\n",
       "    }\n",
       "\n",
       "    .dataframe thead th {\n",
       "        text-align: right;\n",
       "    }\n",
       "</style>\n",
       "<table border=\"1\" class=\"dataframe\">\n",
       "  <thead>\n",
       "    <tr style=\"text-align: right;\">\n",
       "      <th></th>\n",
       "      <th>run_id</th>\n",
       "      <th>experiment_id</th>\n",
       "      <th>status</th>\n",
       "      <th>artifact_uri</th>\n",
       "      <th>start_time</th>\n",
       "      <th>end_time</th>\n",
       "      <th>metrics.acu</th>\n",
       "      <th>metrics.f1_score</th>\n",
       "      <th>params.min_samples_split</th>\n",
       "      <th>params.min_samples_leaf</th>\n",
       "      <th>params.max_depth</th>\n",
       "      <th>params.criterion</th>\n",
       "      <th>params.n_estimators</th>\n",
       "      <th>tags.mlflow.runName</th>\n",
       "      <th>tags.mlflow.user</th>\n",
       "      <th>tags.mlflow.source.type</th>\n",
       "      <th>tags.mlflow.source.git.commit</th>\n",
       "      <th>tags.mlflow.log-model.history</th>\n",
       "      <th>tags.mlflow.source.name</th>\n",
       "    </tr>\n",
       "  </thead>\n",
       "  <tbody>\n",
       "    <tr>\n",
       "      <th>0</th>\n",
       "      <td>02f0dd28aae04c77bb200015f4599910</td>\n",
       "      <td>3</td>\n",
       "      <td>FINISHED</td>\n",
       "      <td>file:///C:/Users/44787/Desktop/projects/End-To...</td>\n",
       "      <td>2024-05-26 20:50:52.081000+00:00</td>\n",
       "      <td>2024-05-26 20:51:15.147000+00:00</td>\n",
       "      <td>0.985082</td>\n",
       "      <td>0.985257</td>\n",
       "      <td>2</td>\n",
       "      <td>1</td>\n",
       "      <td>30</td>\n",
       "      <td>entropy</td>\n",
       "      <td>10</td>\n",
       "      <td>Random_Forest</td>\n",
       "      <td>44787</td>\n",
       "      <td>LOCAL</td>\n",
       "      <td>6716002dac22a89e10efba2403cdf40fccccb06b</td>\n",
       "      <td>[{\"run_id\": \"02f0dd28aae04c77bb200015f4599910\"...</td>\n",
       "      <td>.\\src\\pipeline\\stage_03_training_and_evaluatio...</td>\n",
       "    </tr>\n",
       "  </tbody>\n",
       "</table>\n",
       "</div>"
      ],
      "text/plain": [
       "                             run_id experiment_id    status  \\\n",
       "0  02f0dd28aae04c77bb200015f4599910             3  FINISHED   \n",
       "\n",
       "                                        artifact_uri  \\\n",
       "0  file:///C:/Users/44787/Desktop/projects/End-To...   \n",
       "\n",
       "                        start_time                         end_time  \\\n",
       "0 2024-05-26 20:50:52.081000+00:00 2024-05-26 20:51:15.147000+00:00   \n",
       "\n",
       "   metrics.acu  metrics.f1_score params.min_samples_split  \\\n",
       "0     0.985082          0.985257                        2   \n",
       "\n",
       "  params.min_samples_leaf params.max_depth params.criterion  \\\n",
       "0                       1               30          entropy   \n",
       "\n",
       "  params.n_estimators tags.mlflow.runName tags.mlflow.user  \\\n",
       "0                  10       Random_Forest            44787   \n",
       "\n",
       "  tags.mlflow.source.type             tags.mlflow.source.git.commit  \\\n",
       "0                   LOCAL  6716002dac22a89e10efba2403cdf40fccccb06b   \n",
       "\n",
       "                       tags.mlflow.log-model.history  \\\n",
       "0  [{\"run_id\": \"02f0dd28aae04c77bb200015f4599910\"...   \n",
       "\n",
       "                             tags.mlflow.source.name  \n",
       "0  .\\src\\pipeline\\stage_03_training_and_evaluatio...  "
      ]
     },
     "execution_count": 52,
     "metadata": {},
     "output_type": "execute_result"
    }
   ],
   "source": [
    "runs[runs[\"metrics.acu\"]==highest]"
   ]
  },
  {
   "cell_type": "code",
   "execution_count": 53,
   "metadata": {},
   "outputs": [
    {
     "data": {
      "text/plain": [
       "0    02f0dd28aae04c77bb200015f4599910\n",
       "Name: run_id, dtype: object"
      ]
     },
     "execution_count": 53,
     "metadata": {},
     "output_type": "execute_result"
    }
   ],
   "source": [
    "runs[runs[\"metrics.acu\"]==highest]['run_id']"
   ]
  },
  {
   "cell_type": "code",
   "execution_count": 54,
   "metadata": {},
   "outputs": [
    {
     "data": {
      "text/plain": [
       "'02f0dd28aae04c77bb200015f4599910'"
      ]
     },
     "execution_count": 54,
     "metadata": {},
     "output_type": "execute_result"
    }
   ],
   "source": [
    "highest_run_id = runs[runs[\"metrics.acu\"]==highest][\"run_id\"]\n",
    "highest_run_id = highest_run_id.reset_index(drop=True)[0]\n",
    "highest_run_id"
   ]
  },
  {
   "cell_type": "code",
   "execution_count": 55,
   "metadata": {},
   "outputs": [
    {
     "name": "stdout",
     "output_type": "stream",
     "text": [
      "{   'aliases': [],\n",
      "    'creation_timestamp': 1716756675133,\n",
      "    'current_stage': 'None',\n",
      "    'description': '',\n",
      "    'last_updated_timestamp': 1716756675133,\n",
      "    'name': 'RF_Register',\n",
      "    'run_id': '02f0dd28aae04c77bb200015f4599910',\n",
      "    'run_link': '',\n",
      "    'source': 'file:///C:/Users/44787/Desktop/projects/End-To-End-MLOps-Project/artifacts/3/02f0dd28aae04c77bb200015f4599910/artifacts/models_mlflow',\n",
      "    'status': 'READY',\n",
      "    'status_message': '',\n",
      "    'tags': {},\n",
      "    'user_id': '',\n",
      "    'version': '2'}\n"
     ]
    }
   ],
   "source": [
    "model_name = config.mlflow_config.registered_model_name\n",
    "\n",
    "client = MlflowClient()\n",
    "for mv in client.search_model_versions(f\"name='{model_name}'\"):\n",
    "    mv = dict(mv)\n",
    "    # print(mv)\n",
    "\n",
    "    if mv[\"run_id\"] == highest_run_id:\n",
    "        current_version = mv[\"version\"]\n",
    "        logged_model = mv[\"source\"]\n",
    "        pprint(mv, indent=4)"
   ]
  },
  {
   "cell_type": "code",
   "execution_count": 56,
   "metadata": {},
   "outputs": [
    {
     "name": "stdout",
     "output_type": "stream",
     "text": [
      "{   'aliases': [],\n",
      "    'creation_timestamp': 1716756675133,\n",
      "    'current_stage': 'None',\n",
      "    'description': '',\n",
      "    'last_updated_timestamp': 1716756675133,\n",
      "    'name': 'RF_Register',\n",
      "    'run_id': '02f0dd28aae04c77bb200015f4599910',\n",
      "    'run_link': '',\n",
      "    'source': 'file:///C:/Users/44787/Desktop/projects/End-To-End-MLOps-Project/artifacts/3/02f0dd28aae04c77bb200015f4599910/artifacts/models_mlflow',\n",
      "    'status': 'READY',\n",
      "    'status_message': '',\n",
      "    'tags': {},\n",
      "    'user_id': '',\n",
      "    'version': '2'}\n"
     ]
    }
   ],
   "source": [
    "model_name = config.mlflow_config.registered_model_name\n",
    "\n",
    "client = MlflowClient()\n",
    "for mv in client.search_model_versions(f\"name='{model_name}'\"):\n",
    "    mv = dict(mv)\n",
    "\n",
    "    if mv[\"run_id\"] == highest_run_id:\n",
    "        current_version = mv[\"version\"]\n",
    "        logged_model = mv[\"source\"]\n",
    "        pprint(mv, indent=4)\n",
    "        client.transition_model_version_stage(\n",
    "            name=model_name,\n",
    "            version=current_version,\n",
    "            stage=\"Production\"\n",
    "        )\n",
    "    else:\n",
    "        current_version = mv[\"version\"]\n",
    "        client.transition_model_version_stage(\n",
    "            name=model_name,\n",
    "            version=current_version,\n",
    "            stage=\"Staging\"\n",
    "        )    "
   ]
  },
  {
   "cell_type": "code",
   "execution_count": 57,
   "metadata": {},
   "outputs": [
    {
     "data": {
      "text/plain": [
       "['saved_models/model.joblib']"
      ]
     },
     "execution_count": 57,
     "metadata": {},
     "output_type": "execute_result"
    }
   ],
   "source": [
    "loaded_model = mlflow.pyfunc.load_model(logged_model)\n",
    "\n",
    "model_path = config.webapp_model_dir\n",
    "joblib.dump(loaded_model, model_path)"
   ]
  }
 ],
 "metadata": {
  "kernelspec": {
   "display_name": "Python 3",
   "language": "python",
   "name": "python3"
  },
  "language_info": {
   "codemirror_mode": {
    "name": "ipython",
    "version": 3
   },
   "file_extension": ".py",
   "mimetype": "text/x-python",
   "name": "python",
   "nbconvert_exporter": "python",
   "pygments_lexer": "ipython3",
   "version": "3.9.19"
  },
  "orig_nbformat": 4
 },
 "nbformat": 4,
 "nbformat_minor": 2
}
