{
 "cells": [
  {
   "cell_type": "code",
   "execution_count": 1,
   "metadata": {},
   "outputs": [
    {
     "name": "stdout",
     "output_type": "stream",
     "text": [
      "/home/programmer/Desktop/general/End-To-End-MLOps-Project/notebooks\n"
     ]
    }
   ],
   "source": [
    "!pwd"
   ]
  },
  {
   "cell_type": "code",
   "execution_count": 2,
   "metadata": {},
   "outputs": [
    {
     "name": "stdout",
     "output_type": "stream",
     "text": [
      "/home/programmer/Desktop/general/End-To-End-MLOps-Project\n"
     ]
    }
   ],
   "source": [
    "import os\n",
    "\n",
    "os.chdir(\"../\")\n",
    "!pwd"
   ]
  },
  {
   "cell_type": "code",
   "execution_count": 3,
   "metadata": {},
   "outputs": [],
   "source": [
    "from src.utils.common import read_yaml\n",
    "from src.constants import PARAMS_FILE_PATH\n",
    "\n",
    "import mlflow\n",
    "from mlflow.tracking import MlflowClient\n",
    "from pprint import pprint\n",
    "import joblib\n",
    "\n",
    "\n",
    "import warnings\n",
    "warnings.filterwarnings(\"ignore\")"
   ]
  },
  {
   "cell_type": "code",
   "execution_count": 27,
   "metadata": {},
   "outputs": [
    {
     "name": "stdout",
     "output_type": "stream",
     "text": [
      "[2023-07-09 13:05:38,829: INFO: common: yaml file: params.yaml loaded successfully]\n"
     ]
    },
    {
     "data": {
      "text/html": [
       "<div>\n",
       "<style scoped>\n",
       "    .dataframe tbody tr th:only-of-type {\n",
       "        vertical-align: middle;\n",
       "    }\n",
       "\n",
       "    .dataframe tbody tr th {\n",
       "        vertical-align: top;\n",
       "    }\n",
       "\n",
       "    .dataframe thead th {\n",
       "        text-align: right;\n",
       "    }\n",
       "</style>\n",
       "<table border=\"1\" class=\"dataframe\">\n",
       "  <thead>\n",
       "    <tr style=\"text-align: right;\">\n",
       "      <th></th>\n",
       "      <th>run_id</th>\n",
       "      <th>experiment_id</th>\n",
       "      <th>status</th>\n",
       "      <th>artifact_uri</th>\n",
       "      <th>start_time</th>\n",
       "      <th>end_time</th>\n",
       "      <th>metrics.acu</th>\n",
       "      <th>metrics.f1_score</th>\n",
       "      <th>params.criterion</th>\n",
       "      <th>params.max_depth</th>\n",
       "      <th>params.min_samples_split</th>\n",
       "      <th>params.min_samples_leaf</th>\n",
       "      <th>params.n_estimators</th>\n",
       "      <th>tags.mlflow.source.type</th>\n",
       "      <th>tags.mlflow.source.name</th>\n",
       "      <th>tags.mlflow.runName</th>\n",
       "      <th>tags.mlflow.source.git.commit</th>\n",
       "      <th>tags.mlflow.user</th>\n",
       "      <th>tags.mlflow.log-model.history</th>\n",
       "    </tr>\n",
       "  </thead>\n",
       "  <tbody>\n",
       "    <tr>\n",
       "      <th>0</th>\n",
       "      <td>58b5411185604bb7a0102cb00e0c4b01</td>\n",
       "      <td>2</td>\n",
       "      <td>FINISHED</td>\n",
       "      <td>/home/programmer/Desktop/general/End-To-End-ML...</td>\n",
       "      <td>2023-07-09 07:31:35.946000+00:00</td>\n",
       "      <td>2023-07-09 07:32:07.174000+00:00</td>\n",
       "      <td>0.990226</td>\n",
       "      <td>0.990311</td>\n",
       "      <td>log_loss</td>\n",
       "      <td>30</td>\n",
       "      <td>2</td>\n",
       "      <td>1</td>\n",
       "      <td>200</td>\n",
       "      <td>LOCAL</td>\n",
       "      <td>src/pipeline/stage_03_training_and_evaluation.py</td>\n",
       "      <td>mlops</td>\n",
       "      <td>8c710c53cc6b75374903698186b147a6603fa1c9</td>\n",
       "      <td>programmer</td>\n",
       "      <td>[{\"run_id\": \"58b5411185604bb7a0102cb00e0c4b01\"...</td>\n",
       "    </tr>\n",
       "    <tr>\n",
       "      <th>1</th>\n",
       "      <td>c8d49c6ceb70445f80c3d1a025d095a1</td>\n",
       "      <td>2</td>\n",
       "      <td>FINISHED</td>\n",
       "      <td>/home/programmer/Desktop/general/End-To-End-ML...</td>\n",
       "      <td>2023-07-09 07:24:32.165000+00:00</td>\n",
       "      <td>2023-07-09 07:25:41.558000+00:00</td>\n",
       "      <td>0.979424</td>\n",
       "      <td>0.979818</td>\n",
       "      <td>log_loss</td>\n",
       "      <td>20</td>\n",
       "      <td>4</td>\n",
       "      <td>2</td>\n",
       "      <td>10</td>\n",
       "      <td>LOCAL</td>\n",
       "      <td>/home/programmer/.local/lib/python3.10/site-pa...</td>\n",
       "      <td>mlops</td>\n",
       "      <td>None</td>\n",
       "      <td>programmer</td>\n",
       "      <td>[{\"run_id\": \"c8d49c6ceb70445f80c3d1a025d095a1\"...</td>\n",
       "    </tr>\n",
       "    <tr>\n",
       "      <th>2</th>\n",
       "      <td>ea9aed84b6224dc982071a8131dfdf78</td>\n",
       "      <td>2</td>\n",
       "      <td>FINISHED</td>\n",
       "      <td>/home/programmer/Desktop/general/End-To-End-ML...</td>\n",
       "      <td>2023-07-08 13:08:31.309000+00:00</td>\n",
       "      <td>2023-07-08 13:09:52.801000+00:00</td>\n",
       "      <td>0.991255</td>\n",
       "      <td>0.991322</td>\n",
       "      <td>gini</td>\n",
       "      <td>30</td>\n",
       "      <td>4</td>\n",
       "      <td>1</td>\n",
       "      <td>100</td>\n",
       "      <td>LOCAL</td>\n",
       "      <td>src/pipeline/stage_03_training_and_evaluation.py</td>\n",
       "      <td>mlops</td>\n",
       "      <td>700237ae2e33edcc3056ddc5b91a096704c28d82</td>\n",
       "      <td>programmer</td>\n",
       "      <td>[{\"run_id\": \"ea9aed84b6224dc982071a8131dfdf78\"...</td>\n",
       "    </tr>\n",
       "  </tbody>\n",
       "</table>\n",
       "</div>"
      ],
      "text/plain": [
       "                             run_id experiment_id    status  \\\n",
       "0  58b5411185604bb7a0102cb00e0c4b01             2  FINISHED   \n",
       "1  c8d49c6ceb70445f80c3d1a025d095a1             2  FINISHED   \n",
       "2  ea9aed84b6224dc982071a8131dfdf78             2  FINISHED   \n",
       "\n",
       "                                        artifact_uri  \\\n",
       "0  /home/programmer/Desktop/general/End-To-End-ML...   \n",
       "1  /home/programmer/Desktop/general/End-To-End-ML...   \n",
       "2  /home/programmer/Desktop/general/End-To-End-ML...   \n",
       "\n",
       "                        start_time                         end_time  \\\n",
       "0 2023-07-09 07:31:35.946000+00:00 2023-07-09 07:32:07.174000+00:00   \n",
       "1 2023-07-09 07:24:32.165000+00:00 2023-07-09 07:25:41.558000+00:00   \n",
       "2 2023-07-08 13:08:31.309000+00:00 2023-07-08 13:09:52.801000+00:00   \n",
       "\n",
       "   metrics.acu  metrics.f1_score params.criterion params.max_depth  \\\n",
       "0     0.990226          0.990311         log_loss               30   \n",
       "1     0.979424          0.979818         log_loss               20   \n",
       "2     0.991255          0.991322             gini               30   \n",
       "\n",
       "  params.min_samples_split params.min_samples_leaf params.n_estimators  \\\n",
       "0                        2                       1                 200   \n",
       "1                        4                       2                  10   \n",
       "2                        4                       1                 100   \n",
       "\n",
       "  tags.mlflow.source.type                            tags.mlflow.source.name  \\\n",
       "0                   LOCAL   src/pipeline/stage_03_training_and_evaluation.py   \n",
       "1                   LOCAL  /home/programmer/.local/lib/python3.10/site-pa...   \n",
       "2                   LOCAL   src/pipeline/stage_03_training_and_evaluation.py   \n",
       "\n",
       "  tags.mlflow.runName             tags.mlflow.source.git.commit  \\\n",
       "0               mlops  8c710c53cc6b75374903698186b147a6603fa1c9   \n",
       "1               mlops                                      None   \n",
       "2               mlops  700237ae2e33edcc3056ddc5b91a096704c28d82   \n",
       "\n",
       "  tags.mlflow.user                      tags.mlflow.log-model.history  \n",
       "0       programmer  [{\"run_id\": \"58b5411185604bb7a0102cb00e0c4b01\"...  \n",
       "1       programmer  [{\"run_id\": \"c8d49c6ceb70445f80c3d1a025d095a1\"...  \n",
       "2       programmer  [{\"run_id\": \"ea9aed84b6224dc982071a8131dfdf78\"...  "
      ]
     },
     "execution_count": 27,
     "metadata": {},
     "output_type": "execute_result"
    }
   ],
   "source": [
    "config = read_yaml(PARAMS_FILE_PATH)\n",
    "\n",
    "remote_server_uri = config.mlflow_config.remote_server_uri\n",
    "mlflow.set_tracking_uri(remote_server_uri)\n",
    "\n",
    "\n",
    "runs = mlflow.search_runs(experiment_ids=[0,1,2])\n",
    "runs\n"
   ]
  },
  {
   "cell_type": "code",
   "execution_count": 31,
   "metadata": {},
   "outputs": [
    {
     "data": {
      "text/plain": [
       "0    0.991255\n",
       "1    0.990226\n",
       "2    0.979424\n",
       "Name: metrics.acu, dtype: float64"
      ]
     },
     "execution_count": 31,
     "metadata": {},
     "output_type": "execute_result"
    }
   ],
   "source": [
    "runs[\"metrics.acu\"].sort_values(ascending=False, ignore_index=True)"
   ]
  },
  {
   "cell_type": "code",
   "execution_count": 32,
   "metadata": {},
   "outputs": [
    {
     "data": {
      "text/plain": [
       "0.9912551440329218"
      ]
     },
     "execution_count": 32,
     "metadata": {},
     "output_type": "execute_result"
    }
   ],
   "source": [
    "highest = runs[\"metrics.acu\"].sort_values(ascending=False, ignore_index=True)[0]\n",
    "highest"
   ]
  },
  {
   "cell_type": "code",
   "execution_count": 33,
   "metadata": {},
   "outputs": [
    {
     "data": {
      "text/html": [
       "<div>\n",
       "<style scoped>\n",
       "    .dataframe tbody tr th:only-of-type {\n",
       "        vertical-align: middle;\n",
       "    }\n",
       "\n",
       "    .dataframe tbody tr th {\n",
       "        vertical-align: top;\n",
       "    }\n",
       "\n",
       "    .dataframe thead th {\n",
       "        text-align: right;\n",
       "    }\n",
       "</style>\n",
       "<table border=\"1\" class=\"dataframe\">\n",
       "  <thead>\n",
       "    <tr style=\"text-align: right;\">\n",
       "      <th></th>\n",
       "      <th>run_id</th>\n",
       "      <th>experiment_id</th>\n",
       "      <th>status</th>\n",
       "      <th>artifact_uri</th>\n",
       "      <th>start_time</th>\n",
       "      <th>end_time</th>\n",
       "      <th>metrics.acu</th>\n",
       "      <th>metrics.f1_score</th>\n",
       "      <th>params.criterion</th>\n",
       "      <th>params.max_depth</th>\n",
       "      <th>params.min_samples_split</th>\n",
       "      <th>params.min_samples_leaf</th>\n",
       "      <th>params.n_estimators</th>\n",
       "      <th>tags.mlflow.source.type</th>\n",
       "      <th>tags.mlflow.source.name</th>\n",
       "      <th>tags.mlflow.runName</th>\n",
       "      <th>tags.mlflow.source.git.commit</th>\n",
       "      <th>tags.mlflow.user</th>\n",
       "      <th>tags.mlflow.log-model.history</th>\n",
       "    </tr>\n",
       "  </thead>\n",
       "  <tbody>\n",
       "    <tr>\n",
       "      <th>2</th>\n",
       "      <td>ea9aed84b6224dc982071a8131dfdf78</td>\n",
       "      <td>2</td>\n",
       "      <td>FINISHED</td>\n",
       "      <td>/home/programmer/Desktop/general/End-To-End-ML...</td>\n",
       "      <td>2023-07-08 13:08:31.309000+00:00</td>\n",
       "      <td>2023-07-08 13:09:52.801000+00:00</td>\n",
       "      <td>0.991255</td>\n",
       "      <td>0.991322</td>\n",
       "      <td>gini</td>\n",
       "      <td>30</td>\n",
       "      <td>4</td>\n",
       "      <td>1</td>\n",
       "      <td>100</td>\n",
       "      <td>LOCAL</td>\n",
       "      <td>src/pipeline/stage_03_training_and_evaluation.py</td>\n",
       "      <td>mlops</td>\n",
       "      <td>700237ae2e33edcc3056ddc5b91a096704c28d82</td>\n",
       "      <td>programmer</td>\n",
       "      <td>[{\"run_id\": \"ea9aed84b6224dc982071a8131dfdf78\"...</td>\n",
       "    </tr>\n",
       "  </tbody>\n",
       "</table>\n",
       "</div>"
      ],
      "text/plain": [
       "                             run_id experiment_id    status  \\\n",
       "2  ea9aed84b6224dc982071a8131dfdf78             2  FINISHED   \n",
       "\n",
       "                                        artifact_uri  \\\n",
       "2  /home/programmer/Desktop/general/End-To-End-ML...   \n",
       "\n",
       "                        start_time                         end_time  \\\n",
       "2 2023-07-08 13:08:31.309000+00:00 2023-07-08 13:09:52.801000+00:00   \n",
       "\n",
       "   metrics.acu  metrics.f1_score params.criterion params.max_depth  \\\n",
       "2     0.991255          0.991322             gini               30   \n",
       "\n",
       "  params.min_samples_split params.min_samples_leaf params.n_estimators  \\\n",
       "2                        4                       1                 100   \n",
       "\n",
       "  tags.mlflow.source.type                           tags.mlflow.source.name  \\\n",
       "2                   LOCAL  src/pipeline/stage_03_training_and_evaluation.py   \n",
       "\n",
       "  tags.mlflow.runName             tags.mlflow.source.git.commit  \\\n",
       "2               mlops  700237ae2e33edcc3056ddc5b91a096704c28d82   \n",
       "\n",
       "  tags.mlflow.user                      tags.mlflow.log-model.history  \n",
       "2       programmer  [{\"run_id\": \"ea9aed84b6224dc982071a8131dfdf78\"...  "
      ]
     },
     "execution_count": 33,
     "metadata": {},
     "output_type": "execute_result"
    }
   ],
   "source": [
    "runs[runs[\"metrics.acu\"]==highest]"
   ]
  },
  {
   "cell_type": "code",
   "execution_count": 38,
   "metadata": {},
   "outputs": [
    {
     "data": {
      "text/plain": [
       "2    ea9aed84b6224dc982071a8131dfdf78\n",
       "Name: run_id, dtype: object"
      ]
     },
     "execution_count": 38,
     "metadata": {},
     "output_type": "execute_result"
    }
   ],
   "source": [
    "runs[runs[\"metrics.acu\"]==highest]['run_id']"
   ]
  },
  {
   "cell_type": "code",
   "execution_count": 42,
   "metadata": {},
   "outputs": [
    {
     "data": {
      "text/plain": [
       "'ea9aed84b6224dc982071a8131dfdf78'"
      ]
     },
     "execution_count": 42,
     "metadata": {},
     "output_type": "execute_result"
    }
   ],
   "source": [
    "highest_run_id = runs[runs[\"metrics.acu\"]==highest][\"run_id\"]\n",
    "highest_run_id = highest_run_id.reset_index(drop=True)[0]\n",
    "highest_run_id"
   ]
  },
  {
   "cell_type": "code",
   "execution_count": 43,
   "metadata": {},
   "outputs": [
    {
     "name": "stdout",
     "output_type": "stream",
     "text": [
      "{   'aliases': [],\n",
      "    'creation_timestamp': 1688887721974,\n",
      "    'current_stage': 'None',\n",
      "    'description': '',\n",
      "    'last_updated_timestamp': 1688887721974,\n",
      "    'name': 'Random_Forest_Register',\n",
      "    'run_id': 'ea9aed84b6224dc982071a8131dfdf78',\n",
      "    'run_link': '',\n",
      "    'source': '/home/programmer/Desktop/general/End-To-End-MLOps-Project/artifacts/2/ea9aed84b6224dc982071a8131dfdf78/artifacts/models_mlflow',\n",
      "    'status': 'READY',\n",
      "    'status_message': '',\n",
      "    'tags': {},\n",
      "    'user_id': '',\n",
      "    'version': '2'}\n"
     ]
    }
   ],
   "source": [
    "model_name = config.mlflow_config.registered_model_name\n",
    "\n",
    "client = MlflowClient()\n",
    "for mv in client.search_model_versions(f\"name='{model_name}'\"):\n",
    "    mv = dict(mv)\n",
    "\n",
    "    if mv[\"run_id\"] == highest_run_id:\n",
    "        current_version = mv[\"version\"]\n",
    "        logged_model = mv[\"source\"]\n",
    "        pprint(mv, indent=4)"
   ]
  },
  {
   "cell_type": "code",
   "execution_count": 44,
   "metadata": {},
   "outputs": [
    {
     "name": "stdout",
     "output_type": "stream",
     "text": [
      "{   'aliases': [],\n",
      "    'creation_timestamp': 1688887721974,\n",
      "    'current_stage': 'None',\n",
      "    'description': '',\n",
      "    'last_updated_timestamp': 1688887721974,\n",
      "    'name': 'Random_Forest_Register',\n",
      "    'run_id': 'ea9aed84b6224dc982071a8131dfdf78',\n",
      "    'run_link': '',\n",
      "    'source': '/home/programmer/Desktop/general/End-To-End-MLOps-Project/artifacts/2/ea9aed84b6224dc982071a8131dfdf78/artifacts/models_mlflow',\n",
      "    'status': 'READY',\n",
      "    'status_message': '',\n",
      "    'tags': {},\n",
      "    'user_id': '',\n",
      "    'version': '2'}\n"
     ]
    }
   ],
   "source": [
    "model_name = config.mlflow_config.registered_model_name\n",
    "\n",
    "client = MlflowClient()\n",
    "for mv in client.search_model_versions(f\"name='{model_name}'\"):\n",
    "    mv = dict(mv)\n",
    "\n",
    "    if mv[\"run_id\"] == highest_run_id:\n",
    "        current_version = mv[\"version\"]\n",
    "        logged_model = mv[\"source\"]\n",
    "        pprint(mv, indent=4)\n",
    "        client.transition_model_version_stage(\n",
    "            name=model_name,\n",
    "            version=current_version,\n",
    "            stage=\"Production\"\n",
    "        )\n",
    "    else:\n",
    "        current_version = mv[\"version\"]\n",
    "        client.transition_model_version_stage(\n",
    "            name=model_name,\n",
    "            version=current_version,\n",
    "            stage=\"Staging\"\n",
    "        )    "
   ]
  },
  {
   "cell_type": "code",
   "execution_count": 45,
   "metadata": {},
   "outputs": [
    {
     "name": "stderr",
     "output_type": "stream",
     "text": [
      "2023/07/09 13:16:52 WARNING mlflow.pyfunc: Detected one or more mismatches between the model's dependencies and the current Python environment:\n",
      " - mlflow (current: 2.1.1, required: mlflow<3,>=2.3)\n",
      "To fix the mismatches, call `mlflow.pyfunc.get_model_dependencies(model_uri)` to fetch the model's environment and install dependencies using the resulting environment file.\n"
     ]
    },
    {
     "data": {
      "text/plain": [
       "['saved_models/model.joblib']"
      ]
     },
     "execution_count": 45,
     "metadata": {},
     "output_type": "execute_result"
    }
   ],
   "source": [
    "loaded_model = mlflow.pyfunc.load_model(logged_model)\n",
    "\n",
    "model_path = config.webapp_model_dir\n",
    "joblib.dump(loaded_model, model_path)"
   ]
  }
 ],
 "metadata": {
  "kernelspec": {
   "display_name": "Python 3",
   "language": "python",
   "name": "python3"
  },
  "language_info": {
   "codemirror_mode": {
    "name": "ipython",
    "version": 3
   },
   "file_extension": ".py",
   "mimetype": "text/x-python",
   "name": "python",
   "nbconvert_exporter": "python",
   "pygments_lexer": "ipython3",
   "version": "3.10.6"
  },
  "orig_nbformat": 4
 },
 "nbformat": 4,
 "nbformat_minor": 2
}
